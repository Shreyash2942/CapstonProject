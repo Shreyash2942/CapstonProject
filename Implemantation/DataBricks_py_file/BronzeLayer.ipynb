{
 "cells": [
  {
   "cell_type": "code",
   "execution_count": 0,
   "metadata": {
    "application/vnd.databricks.v1+cell": {
     "cellMetadata": {
      "byteLimit": 2048000,
      "rowLimit": 10000
     },
     "inputWidgets": {},
     "nuid": "f0d7c0e3-1061-42be-b777-5c0726b5a5fc",
     "showTitle": true,
     "tableResultSettingsMap": {},
     "title": "Reading Claims Data"
    }
   },
   "outputs": [],
   "source": [
    "dfclaims=spark.read.options(inferschema=\"True\",header=\"True\").json(\"s3://sp29gluebucket/CapstonProject/inputdata/claims.json\")\n",
    "#dfclaims.printSchema()\n",
    "dfclaims.createOrReplaceTempView('dfclaims')"
   ]
  },
  {
   "cell_type": "code",
   "execution_count": 0,
   "metadata": {
    "application/vnd.databricks.v1+cell": {
     "cellMetadata": {
      "byteLimit": 2048000,
      "rowLimit": 10000
     },
     "inputWidgets": {},
     "nuid": "bb58e962-8245-4494-bbfe-d2336af5f9f0",
     "showTitle": true,
     "tableResultSettingsMap": {},
     "title": "Reading Disease Dataset"
    }
   },
   "outputs": [
    {
     "output_type": "stream",
     "name": "stdout",
     "output_type": "stream",
     "text": [
      "root\n |-- SubGrpID: string (nullable = true)\n |--  Disease_ID: integer (nullable = true)\n |-- Disease_name: string (nullable = true)\n\n"
     ]
    }
   ],
   "source": [
    "dfdisease=spark.read.options(inferschema=\"True\",header=\"True\").csv(\"s3://sp29gluebucket/CapstonProject/inputdata/disease.csv\")\n",
    "#dfdisease.printSchema()\n",
    "dfdisease.createOrReplaceTempView('dfdisease')"
   ]
  },
  {
   "cell_type": "code",
   "execution_count": 0,
   "metadata": {
    "application/vnd.databricks.v1+cell": {
     "cellMetadata": {
      "byteLimit": 2048000,
      "rowLimit": 10000
     },
     "inputWidgets": {},
     "nuid": "dcd5c7c0-0162-47b5-9fbb-60fca6c46a2e",
     "showTitle": true,
     "tableResultSettingsMap": {},
     "title": "Reading group Dataset"
    }
   },
   "outputs": [],
   "source": [
    "dfgroup=spark.read.options(inferschema=\"True\",header=\"True\").csv(\"s3://sp29gluebucket/CapstonProject/inputdata/group.csv\")\n",
    "#dfgroup.printSchema()\n",
    "dfgroup.createOrReplaceTempView('dfgroup')"
   ]
  },
  {
   "cell_type": "code",
   "execution_count": 0,
   "metadata": {
    "application/vnd.databricks.v1+cell": {
     "cellMetadata": {
      "byteLimit": 2048000,
      "rowLimit": 10000
     },
     "inputWidgets": {},
     "nuid": "842cb11b-c262-4691-b9eb-1b261446afd2",
     "showTitle": true,
     "tableResultSettingsMap": {},
     "title": "Reading grpsugrp Dataset"
    }
   },
   "outputs": [],
   "source": [
    "dfgrpsugrp=spark.read.options(inferschema=\"True\",header=\"True\").csv(\"s3://sp29gluebucket/CapstonProject/inputdata/grpsubgrp.csv\")\n",
    "#dfgrpsugrp.printSchema()\n",
    "dfgrpsugrp.createOrReplaceTempView('dfgrpsugrp')"
   ]
  },
  {
   "cell_type": "code",
   "execution_count": 0,
   "metadata": {
    "application/vnd.databricks.v1+cell": {
     "cellMetadata": {
      "byteLimit": 2048000,
      "rowLimit": 10000
     },
     "inputWidgets": {},
     "nuid": "e704da87-c0f1-4ffc-bec0-5912d46174b7",
     "showTitle": true,
     "tableResultSettingsMap": {},
     "title": "Reading hospital Dataset"
    }
   },
   "outputs": [],
   "source": [
    "dfhospital=spark.read.options(inferschema=\"True\",header=\"True\").csv(\"s3://sp29gluebucket/CapstonProject/inputdata/hospital.csv\")\n",
    "#dfhospital.printSchema()\n",
    "dfhospital.createOrReplaceTempView('dfhospital')"
   ]
  },
  {
   "cell_type": "code",
   "execution_count": 0,
   "metadata": {
    "application/vnd.databricks.v1+cell": {
     "cellMetadata": {
      "byteLimit": 2048000,
      "rowLimit": 10000
     },
     "inputWidgets": {},
     "nuid": "26988a69-6efe-489d-a1a3-89f5d8e50f01",
     "showTitle": true,
     "tableResultSettingsMap": {},
     "title": "Reading Patient records Dataset"
    }
   },
   "outputs": [],
   "source": [
    "dfPatient_records=spark.read.options(inferschema=\"True\",header=\"True\").csv(\"s3://sp29gluebucket/CapstonProject/inputdata/Patient_records.csv\")\n",
    "#dfPatient_records.printSchema()\n",
    "dfPatient_records.createOrReplaceTempView('dfPatient_records')\n"
   ]
  },
  {
   "cell_type": "code",
   "execution_count": 0,
   "metadata": {
    "application/vnd.databricks.v1+cell": {
     "cellMetadata": {
      "byteLimit": 2048000,
      "rowLimit": 10000
     },
     "inputWidgets": {},
     "nuid": "1623e776-7e7a-4225-a0fc-34deba10bb81",
     "showTitle": true,
     "tableResultSettingsMap": {},
     "title": "Reading subgroup Dataset"
    }
   },
   "outputs": [],
   "source": [
    "dfsubgroup=spark.read.options(inferschema=\"True\",header=\"True\").csv(\"s3://sp29gluebucket/CapstonProject/inputdata/subgroup.csv\")\n",
    "#dfsubgroup.printSchema()\n",
    "dfsubgroup.createOrReplaceTempView('dfsubgroup')\n"
   ]
  },
  {
   "cell_type": "code",
   "execution_count": 0,
   "metadata": {
    "application/vnd.databricks.v1+cell": {
     "cellMetadata": {
      "byteLimit": 2048000,
      "rowLimit": 10000
     },
     "inputWidgets": {},
     "nuid": "9822ac57-74fe-452c-807f-03579fbbc3b0",
     "showTitle": true,
     "tableResultSettingsMap": {},
     "title": "Reading subscriber Dataset"
    }
   },
   "outputs": [
    {
     "output_type": "stream",
     "name": "stdout",
     "output_type": "stream",
     "text": [
      "root\n |-- sub _id: string (nullable = true)\n |-- first_name: string (nullable = true)\n |-- last_name: string (nullable = true)\n |-- Street: string (nullable = true)\n |-- Birth_date: date (nullable = true)\n |-- Gender: string (nullable = true)\n |-- Phone: string (nullable = true)\n |-- Country: string (nullable = true)\n |-- City: string (nullable = true)\n |-- Zip Code: integer (nullable = true)\n |-- Subgrp_id: string (nullable = true)\n |-- Elig_ind: string (nullable = true)\n |-- eff_date: date (nullable = true)\n |-- term_date: date (nullable = true)\n\n"
     ]
    }
   ],
   "source": [
    "dfsubscriber=spark.read.options(inferschema=\"True\",header=\"True\").csv(\"s3://sp29gluebucket/CapstonProject/inputdata/subscriber.csv\")\n",
    "dfsubscriber.printSchema()\n",
    "dfsubscriber.createOrReplaceTempView('dfsubscriber')\n"
   ]
  },
  {
   "cell_type": "code",
   "execution_count": 0,
   "metadata": {
    "application/vnd.databricks.v1+cell": {
     "cellMetadata": {
      "byteLimit": 2048000,
      "implicitDf": true,
      "rowLimit": 10000
     },
     "inputWidgets": {},
     "nuid": "18f37363-030a-43c7-982f-add6c00f7203",
     "showTitle": false,
     "tableResultSettingsMap": {},
     "title": ""
    }
   },
   "outputs": [
    {
     "output_type": "display_data",
     "data": {
      "text/html": [
       "<style scoped>\n",
       "  .table-result-container {\n",
       "    max-height: 300px;\n",
       "    overflow: auto;\n",
       "  }\n",
       "  table, th, td {\n",
       "    border: 1px solid black;\n",
       "    border-collapse: collapse;\n",
       "  }\n",
       "  th, td {\n",
       "    padding: 5px;\n",
       "  }\n",
       "  th {\n",
       "    text-align: left;\n",
       "  }\n",
       "</style><div class='table-result-container'><table class='table-result'><thead style='background-color: white'><tr><th>namespace</th><th>viewName</th><th>isTemporary</th><th>isMaterialized</th></tr></thead><tbody><tr><td></td><td>claims</td><td>true</td><td>false</td></tr><tr><td></td><td>dfclaims</td><td>true</td><td>false</td></tr><tr><td></td><td>dfdisease</td><td>true</td><td>false</td></tr><tr><td></td><td>dfgroup</td><td>true</td><td>false</td></tr><tr><td></td><td>dfgrpsugrp</td><td>true</td><td>false</td></tr><tr><td></td><td>dfhospital</td><td>true</td><td>false</td></tr><tr><td></td><td>dfpatient_records</td><td>true</td><td>false</td></tr><tr><td></td><td>dfsubgroup</td><td>true</td><td>false</td></tr><tr><td></td><td>dfsubscriber</td><td>true</td><td>false</td></tr></tbody></table></div>"
      ]
     },
     "metadata": {
      "application/vnd.databricks.v1+output": {
       "addedWidgets": {},
       "aggData": [],
       "aggError": "",
       "aggOverflow": false,
       "aggSchema": [],
       "aggSeriesLimitReached": false,
       "aggType": "",
       "arguments": {},
       "columnCustomDisplayInfos": {},
       "data": [
        [
         "",
         "claims",
         true,
         false
        ],
        [
         "",
         "dfclaims",
         true,
         false
        ],
        [
         "",
         "dfdisease",
         true,
         false
        ],
        [
         "",
         "dfgroup",
         true,
         false
        ],
        [
         "",
         "dfgrpsugrp",
         true,
         false
        ],
        [
         "",
         "dfhospital",
         true,
         false
        ],
        [
         "",
         "dfpatient_records",
         true,
         false
        ],
        [
         "",
         "dfsubgroup",
         true,
         false
        ],
        [
         "",
         "dfsubscriber",
         true,
         false
        ]
       ],
       "datasetInfos": [],
       "dbfsResultPath": null,
       "isJsonSchema": true,
       "metadata": {},
       "overflow": false,
       "plotOptions": {
        "customPlotOptions": {},
        "displayType": "table",
        "pivotAggregation": null,
        "pivotColumns": null,
        "xColumns": null,
        "yColumns": null
       },
       "removedWidgets": [],
       "schema": [
        {
         "metadata": "{}",
         "name": "namespace",
         "type": "\"string\""
        },
        {
         "metadata": "{}",
         "name": "viewName",
         "type": "\"string\""
        },
        {
         "metadata": "{}",
         "name": "isTemporary",
         "type": "\"boolean\""
        },
        {
         "metadata": "{}",
         "name": "isMaterialized",
         "type": "\"boolean\""
        }
       ],
       "type": "table"
      }
     },
     "output_type": "display_data"
    }
   ],
   "source": [
    "%sql\n",
    "show views"
   ]
  }
 ],
 "metadata": {
  "application/vnd.databricks.v1+notebook": {
   "computePreferences": null,
   "dashboards": [],
   "environmentMetadata": {
    "base_environment": "",
    "environment_version": "1"
   },
   "inputWidgetPreferences": null,
   "language": "python",
   "notebookMetadata": {
    "mostRecentlyExecutedCommandWithImplicitDF": {
     "commandId": 914320376277499,
     "dataframes": [
      "_sqldf"
     ]
    },
    "pythonIndentUnit": 4
   },
   "notebookName": "BronzeLayer",
   "widgets": {}
  }
 },
 "nbformat": 4,
 "nbformat_minor": 0
}