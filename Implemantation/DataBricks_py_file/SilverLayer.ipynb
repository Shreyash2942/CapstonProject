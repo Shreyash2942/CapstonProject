{
 "cells": [
  {
   "cell_type": "code",
   "execution_count": 0,
   "metadata": {
    "application/vnd.databricks.v1+cell": {
     "cellMetadata": {
      "byteLimit": 2048000,
      "rowLimit": 10000
     },
     "inputWidgets": {},
     "nuid": "e09489c0-909d-46bc-b44a-25ac268398f6",
     "showTitle": true,
     "tableResultSettingsMap": {},
     "title": "Cleaning and Transforming Claims dataset"
    }
   },
   "outputs": [],
   "source": [
    "dfclaims=spark.sql('select * from global_temp.dfclaims')\n",
    "dfclaims.dropna(subset=['SUB_ID','claim_id','patient_id'])\n",
    "dfclaims_fill=dfclaims.replace({'NaN':'N'},subset=['Claim_Or_Rejected'])\n",
    "#display(dfclaims_fill)\n",
    "dfclaims_fill.createOrReplaceTempView('claims')\n"
   ]
  },
  {
   "cell_type": "code",
   "execution_count": 0,
   "metadata": {
    "application/vnd.databricks.v1+cell": {
     "cellMetadata": {
      "byteLimit": 2048000,
      "rowLimit": 10000
     },
     "inputWidgets": {},
     "nuid": "680f91a5-6505-4fd8-b6f6-f0b2b6d178df",
     "showTitle": true,
     "tableResultSettingsMap": {},
     "title": "Cleaning and Transforming disease dataset"
    }
   },
   "outputs": [],
   "source": [
    "dfdisease=spark.sql('select * from global_temp.dfdisease')\n",
    "dfdisease.dropna(subset=['SubGrpID',' Disease_ID'])\n",
    "#display(dfdisease)\n",
    "dfdisease.createOrReplaceTempView('disease')"
   ]
  },
  {
   "cell_type": "code",
   "execution_count": 0,
   "metadata": {
    "application/vnd.databricks.v1+cell": {
     "cellMetadata": {
      "byteLimit": 2048000,
      "rowLimit": 10000
     },
     "inputWidgets": {},
     "nuid": "ec0130cf-b116-4aff-a56e-533becf1d45a",
     "showTitle": true,
     "tableResultSettingsMap": {},
     "title": "Cleaning and Transforming group dataset"
    }
   },
   "outputs": [],
   "source": [
    "dfgroup=spark.sql('select * from global_temp.dfgroup')\n",
    "dfgroup.dropna(subset=['Grp_Id'])\n",
    "#display(dfgroup)\n",
    "dfgroup.createOrReplaceTempView('group')"
   ]
  },
  {
   "cell_type": "code",
   "execution_count": 0,
   "metadata": {
    "application/vnd.databricks.v1+cell": {
     "cellMetadata": {
      "byteLimit": 2048000,
      "rowLimit": 10000
     },
     "inputWidgets": {},
     "nuid": "eb8b788c-b231-49e7-9e10-e8d9a75297ac",
     "showTitle": true,
     "tableResultSettingsMap": {},
     "title": "Cleaning and Transforming grpsugrp dataset"
    }
   },
   "outputs": [],
   "source": [
    "dfgrpsugrp=spark.sql('select * from global_temp.dfgrpsugrp')\n",
    "dfgrpsugrp.dropna(subset=['SubGrp_ID','Grp_Id'])\n",
    "#display(dfgrpsugrp)\n",
    "dfgrpsugrp.createOrReplaceTempView('grpsugrp')"
   ]
  },
  {
   "cell_type": "code",
   "execution_count": 0,
   "metadata": {
    "application/vnd.databricks.v1+cell": {
     "cellMetadata": {
      "byteLimit": 2048000,
      "rowLimit": 10000
     },
     "inputWidgets": {},
     "nuid": "d64bf44c-386f-4415-8d8a-f4ba76ca5525",
     "showTitle": true,
     "tableResultSettingsMap": {},
     "title": "Cleaning and Transforming hospital dataset"
    }
   },
   "outputs": [],
   "source": [
    "dfhospital=spark.sql('select * from global_temp.dfhospital')\n",
    "dfhospital.dropna(subset=['Hospital_id'])\n",
    "#display(dfhospital)\n",
    "dfhospital.createOrReplaceTempView('hospital')"
   ]
  },
  {
   "cell_type": "code",
   "execution_count": 0,
   "metadata": {
    "application/vnd.databricks.v1+cell": {
     "cellMetadata": {
      "byteLimit": 2048000,
      "rowLimit": 10000
     },
     "inputWidgets": {},
     "nuid": "57ec7d05-02f7-4fea-b253-c1ace0bc2aed",
     "showTitle": true,
     "tableResultSettingsMap": {},
     "title": "Cleaning and Transforming patient_records dataset"
    }
   },
   "outputs": [],
   "source": [
    "dfPatient_records=spark.sql('select * from global_temp.dfPatient_records')\n",
    "dfPatient_records.dropna(subset=['Patient_id','hospital_id'])\n",
    "#display(dfPatient_records)\n",
    "dfP_fill=dfPatient_records.fillna({'Patient_name':'Unknown','patient_phone':'+00 0000000000'})\n",
    "#display(dfP_fill)\n",
    "dfP_fill.createOrReplaceTempView('patient_records')\n"
   ]
  },
  {
   "cell_type": "code",
   "execution_count": 0,
   "metadata": {
    "application/vnd.databricks.v1+cell": {
     "cellMetadata": {
      "byteLimit": 2048000,
      "rowLimit": 10000
     },
     "inputWidgets": {},
     "nuid": "b890ea7f-a59c-4c53-baed-0f09c0266dd0",
     "showTitle": true,
     "tableResultSettingsMap": {},
     "title": "Cleaning and Transforming subgroup dataset"
    }
   },
   "outputs": [],
   "source": [
    "dfsubgroup=spark.sql('select * from global_temp.dfsubgroup')\n",
    "dfsubgroup.dropna(subset=['SubGrp_id'])\n",
    "#display(dfsubgroup)\n",
    "dfsubgroup.createOrReplaceTempView('subgroup')"
   ]
  },
  {
   "cell_type": "code",
   "execution_count": 0,
   "metadata": {
    "application/vnd.databricks.v1+cell": {
     "cellMetadata": {
      "byteLimit": 2048000,
      "rowLimit": 10000
     },
     "inputWidgets": {},
     "nuid": "a684d40f-56eb-43d3-80d7-b3d7308a5c5e",
     "showTitle": true,
     "tableResultSettingsMap": {},
     "title": "Cleaning and Transforming subscriber dataset"
    }
   },
   "outputs": [],
   "source": [
    "dfsubscriber=spark.sql('select * from global_temp.dfsubscriber')\n",
    "dfsubscriber.dropna(subset=['sub _id','Subgrp_id'])\n",
    "#display(dfsubscriber)\n",
    "dffill_sub=dfsubscriber.fillna({'first_name':'unknown','last_name':'unknown','Phone':'+00 0000000000'})\n",
    "#display(dffill_sub)\n",
    "dffill_sub.createOrReplaceTempView('subscriber')"
   ]
  },
  {
   "cell_type": "code",
   "execution_count": 0,
   "metadata": {
    "application/vnd.databricks.v1+cell": {
     "cellMetadata": {
      "byteLimit": 2048000,
      "rowLimit": 10000
     },
     "inputWidgets": {},
     "nuid": "0db696ec-3d20-4fe7-b817-d4cd840b481d",
     "showTitle": false,
     "tableResultSettingsMap": {},
     "title": ""
    }
   },
   "outputs": [],
   "source": [
    "# dfnewsubgroup=dfsubgroup.join(dfgrpsugrp,on='SubGrp_id',how='inner')\n",
    "# display(dfnewsubgroup)"
   ]
  },
  {
   "cell_type": "code",
   "execution_count": 0,
   "metadata": {
    "application/vnd.databricks.v1+cell": {
     "cellMetadata": {
      "byteLimit": 2048000,
      "implicitDf": true,
      "rowLimit": 10000
     },
     "inputWidgets": {},
     "nuid": "5f157c39-d883-4eab-bb05-732d92716d05",
     "showTitle": false,
     "tableResultSettingsMap": {},
     "title": ""
    }
   },
   "outputs": [
    {
     "output_type": "display_data",
     "data": {
      "text/html": [
       "<style scoped>\n",
       "  .table-result-container {\n",
       "    max-height: 300px;\n",
       "    overflow: auto;\n",
       "  }\n",
       "  table, th, td {\n",
       "    border: 1px solid black;\n",
       "    border-collapse: collapse;\n",
       "  }\n",
       "  th, td {\n",
       "    padding: 5px;\n",
       "  }\n",
       "  th {\n",
       "    text-align: left;\n",
       "  }\n",
       "</style><div class='table-result-container'><table class='table-result'><thead style='background-color: white'><tr><th>namespace</th><th>viewName</th><th>isTemporary</th><th>isMaterialized</th></tr></thead><tbody><tr><td></td><td>claims</td><td>true</td><td>false</td></tr><tr><td></td><td>disease</td><td>true</td><td>false</td></tr><tr><td></td><td>group</td><td>true</td><td>false</td></tr><tr><td></td><td>grpsugrp</td><td>true</td><td>false</td></tr><tr><td></td><td>hospital</td><td>true</td><td>false</td></tr><tr><td></td><td>patient_records</td><td>true</td><td>false</td></tr><tr><td></td><td>subgroup</td><td>true</td><td>false</td></tr><tr><td></td><td>subscriber</td><td>true</td><td>false</td></tr></tbody></table></div>"
      ]
     },
     "metadata": {
      "application/vnd.databricks.v1+output": {
       "addedWidgets": {},
       "aggData": [],
       "aggError": "",
       "aggOverflow": false,
       "aggSchema": [],
       "aggSeriesLimitReached": false,
       "aggType": "",
       "arguments": {},
       "columnCustomDisplayInfos": {},
       "data": [
        [
         "",
         "claims",
         true,
         false
        ],
        [
         "",
         "disease",
         true,
         false
        ],
        [
         "",
         "group",
         true,
         false
        ],
        [
         "",
         "grpsugrp",
         true,
         false
        ],
        [
         "",
         "hospital",
         true,
         false
        ],
        [
         "",
         "patient_records",
         true,
         false
        ],
        [
         "",
         "subgroup",
         true,
         false
        ],
        [
         "",
         "subscriber",
         true,
         false
        ]
       ],
       "datasetInfos": [],
       "dbfsResultPath": null,
       "isJsonSchema": true,
       "metadata": {},
       "overflow": false,
       "plotOptions": {
        "customPlotOptions": {},
        "displayType": "table",
        "pivotAggregation": null,
        "pivotColumns": null,
        "xColumns": null,
        "yColumns": null
       },
       "removedWidgets": [],
       "schema": [
        {
         "metadata": "{}",
         "name": "namespace",
         "type": "\"string\""
        },
        {
         "metadata": "{}",
         "name": "viewName",
         "type": "\"string\""
        },
        {
         "metadata": "{}",
         "name": "isTemporary",
         "type": "\"boolean\""
        },
        {
         "metadata": "{}",
         "name": "isMaterialized",
         "type": "\"boolean\""
        }
       ],
       "type": "table"
      }
     },
     "output_type": "display_data"
    }
   ],
   "source": [
    "%sql\n",
    "show views"
   ]
  }
 ],
 "metadata": {
  "application/vnd.databricks.v1+notebook": {
   "computePreferences": null,
   "dashboards": [],
   "environmentMetadata": {
    "base_environment": "",
    "environment_version": "1"
   },
   "inputWidgetPreferences": null,
   "language": "python",
   "notebookMetadata": {
    "mostRecentlyExecutedCommandWithImplicitDF": {
     "commandId": 1651336594037523,
     "dataframes": [
      "_sqldf"
     ]
    },
    "pythonIndentUnit": 4
   },
   "notebookName": "SilverLayer",
   "widgets": {}
  }
 },
 "nbformat": 4,
 "nbformat_minor": 0
}