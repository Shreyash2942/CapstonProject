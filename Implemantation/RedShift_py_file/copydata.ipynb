{
 "cells": [
  {
   "cell_type": "code",
   "execution_count": 0,
   "metadata": {
    "displayMode": "maximized",
    "isLimitOn": true,
    "vscode": {
     "languageId": "redshift"
    },
    "width": 12
   },
   "outputs": [],
   "source": [
    "COPY capstonproject.claims\n",
    "FROM 's3://mybucketname/CapstonProject/outputdata/claims/'\n",
    "IAM_ROLE 'aim_user_role_redshift_admin'\n",
    "FORMAT AS CSV\n",
    "IGNOREHEADER 1\n",
    "DELIMITER ',';"
   ]
  },
  {
   "cell_type": "code",
   "execution_count": 0,
   "metadata": {
    "displayMode": "maximized",
    "isLimitOn": true,
    "vscode": {
     "languageId": "redshift"
    },
    "width": 12
   },
   "outputs": [],
   "source": [
    "COPY capstonproject.grpsubgrp\n",
    "FROM 's3://mybucketname/CapstonProject/outputdata/claims/'\n",
    "IAM_ROLE 'aim_user_role_redshift_admin'\n",
    "FORMAT AS CSV\n",
    "IGNOREHEADER 1\n",
    "DELIMITER ',';"
   ]
  },
  {
   "cell_type": "code",
   "execution_count": 0,
   "metadata": {
    "displayMode": "maximized",
    "isLimitOn": true,
    "vscode": {
     "languageId": "redshift"
    },
    "width": 12
   },
   "outputs": [],
   "source": [
    "COPY capstonproject.group\n",
    "FROM 's3://mybucketname/CapstonProject/outputdata/claims/'\n",
    "IAM_ROLE 'aim_user_role_redshift_admin'\n",
    "FORMAT AS CSV\n",
    "IGNOREHEADER 1\n",
    "DELIMITER ',';"
   ]
  },
  {
   "cell_type": "code",
   "execution_count": 0,
   "metadata": {
    "displayMode": "maximized",
    "isLimitOn": true,
    "vscode": {
     "languageId": "redshift"
    },
    "width": 12
   },
   "outputs": [],
   "source": [
    "COPY capstonproject.disease\n",
    "FROM 's3://mybucketname/CapstonProject/outputdata/claims/'\n",
    "IAM_ROLE 'aim_user_role_redshift_admin'\n",
    "FORMAT AS CSV\n",
    "IGNOREHEADER 1\n",
    "DELIMITER ',';"
   ]
  },
  {
   "cell_type": "code",
   "execution_count": 0,
   "metadata": {
    "displayMode": "maximized",
    "isLimitOn": true,
    "vscode": {
     "languageId": "redshift"
    },
    "width": 12
   },
   "outputs": [],
   "source": [
    "COPY capstonproject.hospital\n",
    "FROM 's3://mybucketname/CapstonProject/outputdata/claims/'\n",
    "IAM_ROLE 'aim_user_role_redshift_admin'\n",
    "FORMAT AS CSV\n",
    "IGNOREHEADER 1\n",
    "DELIMITER ',';"
   ]
  },
  {
   "cell_type": "code",
   "execution_count": 0,
   "metadata": {
    "displayMode": "maximized",
    "isLimitOn": true,
    "vscode": {
     "languageId": "redshift"
    },
    "width": 12
   },
   "outputs": [],
   "source": [
    "COPY capstonproject.patient_records\n",
    "FROM 's3://mybucketname/CapstonProject/outputdata/claims/'\n",
    "IAM_ROLE 'aim_user_role_redshift_admin'\n",
    "FORMAT AS CSV\n",
    "IGNOREHEADER 1\n",
    "DELIMITER ',';"
   ]
  },
  {
   "cell_type": "code",
   "execution_count": 0,
   "metadata": {
    "displayMode": "maximized",
    "isLimitOn": true,
    "vscode": {
     "languageId": "redshift"
    },
    "width": 12
   },
   "outputs": [],
   "source": [
    "COPY capstonproject.subgroup\n",
    "FROM 's3://mybucketname/CapstonProject/outputdata/claims/'\n",
    "IAM_ROLE 'aim_user_role_redshift_admin'\n",
    "FORMAT AS CSV\n",
    "IGNOREHEADER 1\n",
    "DELIMITER ',';"
   ]
  },
  {
   "cell_type": "code",
   "execution_count": 0,
   "metadata": {
    "displayMode": "maximized",
    "isLimitOn": true,
    "vscode": {
     "languageId": "redshift"
    },
    "width": 12
   },
   "outputs": [],
   "source": [
    "COPY capstonproject.subscriber\n",
    "FROM 's3://mybucketname/CapstonProject/outputdata/claims/'\n",
    "IAM_ROLE 'aim_user_role_redshift_admin'\n",
    "FORMAT AS CSV\n",
    "IGNOREHEADER 1\n",
    "DELIMITER ',';"
   ]
  }
 ],
 "metadata": {
  "kernelspec": {
   "display_name": "Redshift",
   "language": "postgresql",
   "name": "Redshift"
  },
  "language_info": {
   "file_extension": ".sql",
   "name": "Redshift"
  },
  "title": "copydata",
  "version": 1
 },
 "nbformat": 4,
 "nbformat_minor": 0
}
